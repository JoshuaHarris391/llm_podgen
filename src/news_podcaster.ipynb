{
 "cells": [
  {
   "cell_type": "markdown",
   "metadata": {},
   "source": [
    "# News Podcaster Demo\n",
    "Use OpenAI Assistant to generate a script then convert it into audio scripts\n"
   ]
  },
  {
   "cell_type": "code",
   "execution_count": 61,
   "metadata": {},
   "outputs": [
    {
     "data": {
      "text/plain": [
       "True"
      ]
     },
     "execution_count": 61,
     "metadata": {},
     "output_type": "execute_result"
    }
   ],
   "source": [
    "from dotenv import load_dotenv\n",
    "load_dotenv()"
   ]
  },
  {
   "cell_type": "code",
   "execution_count": 62,
   "metadata": {},
   "outputs": [
    {
     "name": "stdout",
     "output_type": "stream",
     "text": [
      "{\n",
      "    \"status\": \"ok\",\n",
      "    \"totalResults\": 10,\n",
      "    \"articles\": [\n",
      "        {\n",
      "            \"source\": {\n",
      "                \"id\": \"abc-news-au\",\n",
      "                \"name\": \"ABC News (AU)\"\n",
      "            },\n",
      "            \"author\": \"Chris Calcino\",\n",
      "            \"title\": \"Cairns artist David Hudson recalls Island of Dr Moreau experience with Marlon Brando and Val Kilmer\",\n",
      "            \"description\": \"David Hudson has led an extraordinary life, but his stint as a half-human, half-bison hybrid alongside the Godfather star and Val Kilmer while filming The Island of Dr Moreau\\u00a0remains his strangest claim to fame.\",\n",
      "            \"url\": \"http://www.abc.net.au/news/2023-04-03/david-hudson-bison-man-brando-island-doctor-moreau-cairns/102171602\",\n",
      "            \"urlToImage\": \"https://live-production.wcms.abc-cdn.net.au/80c7fd8e780bcaa4cddfa095c6fdf2a1?impolicy=wcms_crop_resize&cropH=1080&cropW=1920&xPos=0&yPos=0&width=862&height=485\",\n",
      "            \"publishedAt\": \"2023-04-03T00:40:54Z\",\n",
      "            \"content\": \"David Hudson has led an extraordinary life, but a three-month stint working as a human-bison hybrid alongside Marlon Brando and Val Kilmer in Far North Queensland stands as his strangest claim to fam\\u2026 [+5646 chars]\"\n",
      "        },\n",
      "        {\n",
      "            \"source\": {\n",
      "                \"id\": \"abc-news-au\",\n",
      "                \"name\": \"ABC News (AU)\"\n",
      "            },\n",
      "            \"author\": \"ABC News\",\n",
      "            \"title\": \"Paul Mescal and Jodie Comer lead winners list at Olivier Awards\",\n",
      "            \"description\": \"Paul Mescal and Jodie Comer score\\u00a0prizes at London's Olivier Awards for their first\\u00a0West End stage roles.\",\n",
      "            \"url\": \"http://www.abc.net.au/news/2023-04-03/oliver-awards-paul-scal-jodie-comer-winners-list/102178812\",\n",
      "            \"urlToImage\": \"https://live-production.wcms.abc-cdn.net.au/87900c1941d898670f967a645ca0c843?impolicy=wcms_crop_resize&cropH=2809&cropW=4994&xPos=0&yPos=0&width=862&height=485\",\n",
      "            \"publishedAt\": \"2023-04-02T23:49:01Z\",\n",
      "            \"content\": \"Screen stars Paul Mescal and Jodie Comer have scored prizes at London's Olivier Awards for their first West End stage roles, while an adaptation of Japanese animated classic My Neighbor Totoro won si\\u2026 [+4713 chars]\"\n",
      "        },\n",
      "        {\n",
      "            \"source\": {\n",
      "                \"id\": \"abc-news-au\",\n",
      "                \"name\": \"ABC News (AU)\"\n",
      "            },\n",
      "            \"author\": \"ABC News\",\n",
      "            \"title\": \"Van life gives couple freedom to ditch the daily grind and hit the open road, funding their travels with farm work\",\n",
      "            \"description\": \"Quitting\\u00a0your\\u00a09-5 office job to live in a van\\u00a0and travel around Australia\\u00a0is a pipe dream for many people.\\u00a0But Kobie Notting\\u00a0and her partner\\u00a0Vaughn Turner\\u00a0made it happen and haven't looked back.\",\n",
      "            \"url\": \"http://www.abc.net.au/news/2023-04-03/van-life-gives-couple-freedom-to-travel-funded-by-farm-work/102171920\",\n",
      "            \"urlToImage\": \"https://live-production.wcms.abc-cdn.net.au/49f1788310c72eecf2ba024b153d47b9?impolicy=wcms_crop_resize&cropH=1080&cropW=1920&xPos=0&yPos=0&width=862&height=485\",\n",
      "            \"publishedAt\": \"2023-04-02T23:34:41Z\",\n",
      "            \"content\": \"Quitting your 9-5 office job to live in a van\\u00a0and travel around Australia\\u00a0is a pipe dream for many people.\\r\\nBut Gippsland local Kobie Notting\\u00a0and her partner\\u00a0Vaughn Turner\\u00a0made it happen\\u00a0and say it's\\u2026 [+4949 chars]\"\n",
      "        },\n",
      "        {\n",
      "            \"source\": {\n",
      "                \"id\": \"abc-news-au\",\n",
      "                \"name\": \"ABC News (AU)\"\n",
      "            },\n",
      "            \"author\": \"Jarrod Lucas\",\n",
      "            \"title\": \"WA's great \\u2013 and less-than-great \\u2013 gold plots unearthed as price hits record high\",\n",
      "            \"description\": \"As long as gold has been mined\\u00a0people have tried to steal it. As the precious metal hits a record price, let's take a look back at some of the mad, bad and downright dumb ways crooks have tried\\u00a0to pocket the \\\"miner's\\u00a0privilege\\\".\",\n",
      "            \"url\": \"http://www.abc.net.au/news/2023-04-03/gold-stealing-history-western-australia-perth-mint/102170820\",\n",
      "            \"urlToImage\": \"https://live-production.wcms.abc-cdn.net.au/6b65e441fca67b5f528dd09739d01b19?impolicy=wcms_crop_resize&cropH=540&cropW=959&xPos=0&yPos=0&width=862&height=485\",\n",
      "            \"publishedAt\": \"2023-04-02T23:12:49Z\",\n",
      "            \"content\": \"As long as there has been gold mining in Western Australia\\u00a0people have been trying to steal it.\\u00a0\\r\\nThat temptation has reached fever pitch with prices for the precious metal in March surpassing $3,000\\u2026 [+14179 chars]\"\n",
      "        },\n",
      "        {\n",
      "            \"source\": {\n",
      "                \"id\": \"abc-news-au\",\n",
      "                \"name\": \"ABC News (AU)\"\n",
      "            },\n",
      "            \"author\": \"Matt Garrick\",\n",
      "            \"title\": \"A political warrior who walked tall in two worlds \\u2014\\u00a0how Yunupingu opened Australia's eyes\",\n",
      "            \"description\": \"From a land rights \\\"radical\\\" to a steely elder who had the ear of successive prime ministers, the late northeast Arnhem Land leader, Yunupingu, leaves a powerful legacy.\",\n",
      "            \"url\": \"http://www.abc.net.au/news/2023-04-03/yunupingu-gove-nhulunbuy-nt-land-rights-legend-dies/102144072\",\n",
      "            \"urlToImage\": \"https://live-production.wcms.abc-cdn.net.au/7ce091a92ef5f6c933ff186a79e8993a?impolicy=wcms_crop_resize&cropH=257&cropW=456&xPos=5&yPos=32&width=862&height=485\",\n",
      "            \"publishedAt\": \"2023-04-02T23:11:06Z\",\n",
      "            \"content\": \"From political boardrooms to the Northern Territory bush, Yunupingu walked tall in two worlds, always with a fire burning deep inside.\\r\\nNote to Aboriginal and Torres Strait Islander readers: Yunuping\\u2026 [+9908 chars]\"\n",
      "        },\n",
      "        {\n",
      "            \"source\": {\n",
      "                \"id\": \"abc-news-au\",\n",
      "                \"name\": \"ABC News (AU)\"\n",
      "            },\n",
      "            \"author\": \"Dean Bilton\",\n",
      "            \"title\": \"AFL Round-Up: Geelong in trouble, Adelaide's Showdown special and Melbourne set a standard against Sydney\",\n",
      "            \"description\": \"Reigning premiers Geelong are the only winless team left in the AFL, as round three delivers another Showdown to remember and a Demons performance that caught the eye. We digest the week that was.\",\n",
      "            \"url\": \"http://www.abc.net.au/news/2023-04-03/afl-round-up-three-geelong-adelaide-port-melbourne-sydney/102177548\",\n",
      "            \"urlToImage\": \"https://live-production.wcms.abc-cdn.net.au/9c9a21d5c45efdb1fd16a173afb12730?impolicy=wcms_crop_resize&cropH=450&cropW=800&xPos=0&yPos=30&width=862&height=485\",\n",
      "            \"publishedAt\": \"2023-04-02T20:58:46Z\",\n",
      "            \"content\": \"Reigning premiers Geelong are the only winless team left in the AFL, as round three delivers another Showdown to remember and a Demons performance that caught the eye.\\r\\nWelcome to the AFL Round-Up, w\\u2026 [+14512 chars]\"\n",
      "        },\n",
      "        {\n",
      "            \"source\": {\n",
      "                \"id\": \"abc-news-au\",\n",
      "                \"name\": \"ABC News (AU)\"\n",
      "            },\n",
      "            \"author\": \"ABC News\",\n",
      "            \"title\": \"Ukrainian ballerina who fled after Russia's invasion stars in Swan Lake in Budapest\",\n",
      "            \"description\": \"Ganna Muromtseva left her pointe shoes behind when she fled Ukraine after Russia's invasion. Now, she is on stage again performing to audiences in Hungary.\",\n",
      "            \"url\": \"http://www.abc.net.au/news/2023-04-03/ukrainian-ballerina-takes-the-stage-in-swan-lake/102132450\",\n",
      "            \"urlToImage\": \"https://live-production.wcms.abc-cdn.net.au/171cf9ca4fa923af20aeb163f1e9d2d1?impolicy=wcms_crop_resize&cropH=2813&cropW=5000&xPos=0&yPos=105&width=862&height=485\",\n",
      "            \"publishedAt\": \"2023-04-02T20:02:34Z\",\n",
      "            \"content\": \"After the lights dim in Budapest's magnificent Opera House, Ukrainian ballerina Ganna Muromtseva flutters high with undulating arms in the lead role of Tchaikovsky's Swan Lake ballet.\\r\\nAt the end, th\\u2026 [+4720 chars]\"\n",
      "        },\n",
      "        {\n",
      "            \"source\": {\n",
      "                \"id\": \"abc-news-au\",\n",
      "                \"name\": \"ABC News (AU)\"\n",
      "            },\n",
      "            \"author\": \"Lexy Hamilton-Smith\",\n",
      "            \"title\": \"Growing calls for student HECS-HELP loan indexation to be abolished as inflation sends debts soaring\",\n",
      "            \"description\": \"A growing chorus of university graduates is calling for an overhaul of the HECS-HELP debt system, as loan amounts balloon\\u00a0due to high inflation.\",\n",
      "            \"url\": \"http://www.abc.net.au/news/2023-04-03/student-debt-rising-hecs-help-indexing/102125582\",\n",
      "            \"urlToImage\": \"https://live-production.wcms.abc-cdn.net.au/00a208d4544e5179cb5d74b38ddcd5d9?impolicy=wcms_crop_resize&cropH=1692&cropW=3008&xPos=0&yPos=111&width=862&height=485\",\n",
      "            \"publishedAt\": \"2023-04-02T19:38:43Z\",\n",
      "            \"content\": \"Brisbane wealth adviser\\u00a0Alanna Fraser has been battling to pay off a university student debt of $102,000.\\r\\nKey points:\\r\\n<ul><li>The National Union of Students says the federal government is profiting\\u2026 [+8803 chars]\"\n",
      "        },\n",
      "        {\n",
      "            \"source\": {\n",
      "                \"id\": \"abc-news-au\",\n",
      "                \"name\": \"ABC News (AU)\"\n",
      "            },\n",
      "            \"author\": \"ABC News\",\n",
      "            \"title\": \"After the Fall\",\n",
      "            \"description\": \"A mother and son in suburban Sydney, almost 100 lives on the line and a perilous rescue mission on the other side of the world. Can they pull it off?\",\n",
      "            \"url\": \"http://www.abc.net.au/news/2023-04-03/sourosh-and-mahboba-audacious-afghanistan-rescue-mission/101768796\",\n",
      "            \"urlToImage\": \"https://live-production.wcms.abc-cdn.net.au/7bbf0b96f672006e06170f41a5f21960?impolicy=wcms_crop_resize&cropH=2813&cropW=5000&xPos=0&yPos=260&width=862&height=485\",\n",
      "            \"publishedAt\": \"2023-04-02T18:26:05Z\",\n",
      "            \"content\": \"A mother and son in suburban Sydney, almost 100 lives on the line and a perilous rescue mission on the other side of the world. Can they pull it off?\\r\\nIt had just passed midnight on August 25, 2021, \\u2026 [+18740 chars]\"\n",
      "        },\n",
      "        {\n",
      "            \"source\": {\n",
      "                \"id\": \"abc-news-au\",\n",
      "                \"name\": \"ABC News (AU)\"\n",
      "            },\n",
      "            \"author\": \"Emilia Terzon\",\n",
      "            \"title\": \"House prices rise for the first time in 11 months in March, while chronic rental shortage continues\",\n",
      "            \"description\": \"Property prices are climbing nationally for the first time since interest rates started rising, according to CoreLogic, but rents are still surging in major capital cities as\\u00a0a federal report finds\\u00a046,500 households are experiencing homelessness.\",\n",
      "            \"url\": \"http://www.abc.net.au/news/2023-04-03/corelogic-property-prices-rents-march-2023-rise-prices/102177578\",\n",
      "            \"urlToImage\": \"https://live-production.wcms.abc-cdn.net.au/84508823ca4087f557c1706461f405d2?impolicy=wcms_crop_resize&cropH=1080&cropW=1920&xPos=0&yPos=0&width=862&height=485\",\n",
      "            \"publishedAt\": \"2023-04-02T14:00:47Z\",\n",
      "            \"content\": \"Property prices\\u00a0have gone up nationally for first time in 11\\u00a0months, despite rising interest rates.\\r\\nKey points:\\r\\n<ul><li>CoreLogic's national property price index rose for the first time since April\\u2026 [+10121 chars]\"\n",
      "        }\n",
      "    ]\n",
      "}\n"
     ]
    }
   ],
   "source": [
    "import requests\n",
    "import json\n",
    "\n",
    "news_api = os.getenv(\"NEWS_API\")\n",
    "\n",
    "url = f\"https://newsapi.org/v2/top-headlines?sources=abc-news-au&apiKey={news_api}\"\n",
    "\n",
    "response = requests.get(url)\n",
    "response_json = response.json()\n",
    "print(json.dumps(response_json, indent=4))\n"
   ]
  },
  {
   "cell_type": "code",
   "execution_count": 38,
   "metadata": {},
   "outputs": [],
   "source": [
    "from bs4 import BeautifulSoup\n",
    "articles = []\n",
    "\n",
    "for article in response_json['articles']:\n",
    "    article_map = {}\n",
    "    article_url = article['url']\n",
    "    article_response = requests.get(article_url)\n",
    "    soup = BeautifulSoup(article_response.text, 'html.parser')\n",
    "    content = soup.find_all('p')\n",
    "    article_content = ' '.join([p.text for p in content])\n",
    "    article_map['title'] = article['title']\n",
    "    article_map['url'] = article['url']\n",
    "    article_map['description'] = article['description']\n",
    "    article_map['content'] = article_content\n",
    "    articles.append(article_map)\n",
    "\n"
   ]
  },
  {
   "cell_type": "code",
   "execution_count": 41,
   "metadata": {},
   "outputs": [
    {
     "name": "stdout",
     "output_type": "stream",
     "text": [
      "{\n",
      "    \"title\": \"Cairns artist David Hudson recalls Island of Dr Moreau experience with Marlon Brando and Val Kilmer\",\n",
      "    \"url\": \"http://www.abc.net.au/news/2023-04-03/david-hudson-bison-man-brando-island-doctor-moreau-cairns/102171602\",\n",
      "    \"description\": \"David Hudson has led an extraordinary life, but his stint as a half-human, half-bison hybrid alongside the Godfather star and Val Kilmer while filming The Island of Dr Moreau\\u00a0remains his strangest claim to fame.\",\n",
      "    \"content\": \" Cairns artist David Hudson recalls Island of Dr Moreau experience with Marlon Brando and Val Kilmer An emergency bushfire warning is in place for Dolphin Sands Road at Dolphin Sands in Tasmania.\\u00a0Keep up to date with ABC Emergency David Hudson has led an extraordinary life, but a three-month stint working as a human-bison hybrid alongside Marlon Brando and Val Kilmer in Far North Queensland stands as his strangest claim to fame.\\u00a0 \\u00a0 \\\"I had one eye, and I had to limp with one foot, and I had hoofs,\\\" he says with a schoolboy's grin. The absurdity of that statement doesn't escape the Cairns artist, and his laugh cracks like a whip as he recounts the peculiar tale. It was the mid-1990s and director Richard Stanley was on the hunt for cast and crew to populate the set of his latest project, an ambitious remake of H.G. Wells' 1896 novel The Island of Doctor Moreau. The novel\\u00a0tells the tale of a mad scientist who creates\\u00a0hybrid human-animal abominations through vivisection, and was described by Wells as \\\"an exercise in youthful blasphemy\\\". Marlon Brando, of Apocalypse Now and The Godfather fame, was on board to play the demented doctor, and Val Kilmer would play his assistant. Stanley tracked Hudson down after seeing him perform with an Aboriginal dance troupe at the Shaw Theatre in London. \\\"He says \\u2026 'I saw you up on stage doing the emu and the kangaroo and the brolga, and I thought to myself, if I want anyone to do the choreography, I want that bloke up there,'\\\"\\u00a0Hudson recalls. When he discovered\\u00a0Brando was involved, Hudson decided he wanted more than just a choreography gig. \\\"I said, mate, I've gotta have a role in this.\\\"\\u00a0 Azazello the dog-man was already spoken for by way of New Zealand actor Temuera Morrison, and Ron Perlman was cast as goat-man hybrid The Sayer of the Law, but there was still one role to fill. \\\"He said, 'All right, you can become the Bison Man',\\\" Hudson says. \\\"And the killer point was \\u2026 he said it's going to be filmed in a place called Cairns ... my hometown.\\\" Hudson says his\\u00a0first on-set meeting with Brando was truly surreal. He was in full human-bison prosthetics, and offered\\u00a0a forehoof for a congenial shake when the megastar strolled over to say hello. \\\"He goes, 'You know, the make-up on this is beautiful. I've got no goddamn idea what you look like underneath.'\\\"\\u00a0 Hudson was at home with his wife when the phone rang some days later. \\\"I put the phone to my chest and I said to\\u00a0Cindy, I think this is Marlon Brando.\\u00a0And she said, 'Well \\u2026 talk'.\\\" Before he knew it, Brando had accepted an invitation to bring his wife and daughter to visit Hudson's family in Kuranda, about an hour's drive from Cairns. \\\"I told my mum, you know this bloke's lived in Tahiti so he eats the same tucker that we eat \\u2014\\u00a0like rice, curried chicken and fish and taro and sweet potato,\\\" Hudson says. \\\"So she cooked this huge meal.\\\" Hudson, Brando and their families spent the day sitting on the grass and spinning yarns like old mates. Brando took home a piece of Far North Queensland from the encounter \\u2014\\u00a0a didgeridoo that Hudson had fashioned himself for the actor from a hollow log. It has\\u00a0been decades since the erstwhile Bison Man\\u00a0watched The Island of Doctor Moreau, but he is preparing to dust it off at a special screening in Cairns later this month. \\\"I haven't seen the film in 20 years, so it'll be a blast from the past,\\\" he says. His pre-screening talk will no doubt delve into the sensation of being slathered in grease, fitted with latex moulds and having\\u00a0\\\"bison teeth\\\" wedged into his mouth. \\\"It was stinking hot.\\u00a0It's like wearing a wetsuit.\\u00a0At the end of the day, you're like ... just get this stuff off me,\\\" Hudson says. \\\"It took a while to actually get rid of the latex smell on your body, because you're sweating with it. \\\"It was fun, who am I to complain?\\\" The Island of Doctor Moreau movie has achieved notoriety as one of film's biggest flops after\\u00a0tanking at the box office and being roundly denounced\\u00a0by critics. Regardless, Hudson counts it as one of his greatest experiences\\u00a0\\u2013 and there are plenty to choose from. He has performed didgeridoo for three generations of the British royal family, and\\u00a0spent 12 years touring with Greek composer Yanni to 20,000-seat arenas, the Pyramids\\u00a0and even China's Forbidden City. So how has he been able to attract these opportunities? \\\"That's easy, that's because I come from an old ancient culture ... \\\" he says. \\\"Mine's a living culture and people overseas are very fascinated by my culture. \\\"I want all Australians to understand that we live in this country of ours \\u2026 be proud of it and who we are.\\\" We acknowledge Aboriginal and Torres Strait Islander peoples as the First Australians and Traditional Custodians of the lands where we live, learn, and work. This service may include material from Agence France-Presse (AFP), APTN, Reuters, AAP, CNN and the BBC World Service which is copyright and cannot be reproduced. AEST = Australian Eastern Standard Time which is 10 hours ahead of GMT (Greenwich Mean Time)\"\n",
      "}\n"
     ]
    }
   ],
   "source": [
    "print(json.dumps(articles[0], indent=4))"
   ]
  },
  {
   "cell_type": "code",
   "execution_count": 43,
   "metadata": {},
   "outputs": [
    {
     "name": "stdout",
     "output_type": "stream",
     "text": [
      "{\n",
      "    \"title\": \"Cairns artist David Hudson recalls Island of Dr Moreau experience with Marlon Brando and Val Kilmer\",\n",
      "    \"url\": \"http://www.abc.net.au/news/2023-04-03/david-hudson-bison-man-brando-island-doctor-moreau-cairns/102171602\",\n",
      "    \"description\": \"David Hudson has led an extraordinary life, but his stint as a half-human, half-bison hybrid alongside the Godfather star and Val Kilmer while filming The Island of Dr Moreau\\u00a0remains his strangest claim to fame.\",\n",
      "    \"content\": \" Cairns artist David Hudson recalls Island of Dr Moreau experience with Marlon Brando and Val Kilmer An emergency bushfire warning is in place for Dolphin Sands Road at Dolphin Sands in Tasmania.\\u00a0Keep up to date with ABC Emergency David Hudson has led an extraordinary life, but a three-month stint working as a human-bison hybrid alongside Marlon Brando and Val Kilmer in Far North Queensland stands as his strangest claim to fame.\\u00a0 \\u00a0 \\\"I had one eye, and I had to limp with one foot, and I had hoofs,\\\" he says with a schoolboy's grin. The absurdity of that statement doesn't escape the Cairns artist, and his laugh cracks like a whip as he recounts the peculiar tale. It was the mid-1990s and director Richard Stanley was on the hunt for cast and crew to populate the set of his latest project, an ambitious remake of H.G. Wells' 1896 novel The Island of Doctor Moreau. The novel\\u00a0tells the tale of a mad scientist who creates\\u00a0hybrid human-animal abominations through vivisection, and was described by Wells as \\\"an exercise in youthful blasphemy\\\". Marlon Brando, of Apocalypse Now and The Godfather fame, was on board to play the demented doctor, and Val Kilmer would play his assistant. Stanley tracked Hudson down after seeing him perform with an Aboriginal dance troupe at the Shaw Theatre in London. \\\"He says \\u2026 'I saw you up on stage doing the emu and the kangaroo and the brolga, and I thought to myself, if I want anyone to do the choreography, I want that bloke up there,'\\\"\\u00a0Hudson recalls. When he discovered\\u00a0Brando was involved, Hudson decided he wanted more than just a choreography gig. \\\"I said, mate, I've gotta have a role in this.\\\"\\u00a0 Azazello the dog-man was already spoken for by way of New Zealand actor Temuera Morrison, and Ron Perlman was cast as goat-man hybrid The Sayer of the Law, but there was still one role to fill. \\\"He said, 'All right, you can become the Bison Man',\\\" Hudson says. \\\"And the killer point was \\u2026 he said it's going to be filmed in a place called Cairns ... my hometown.\\\" Hudson says his\\u00a0first on-set meeting with Brando was truly surreal. He was in full human-bison prosthetics, and offered\\u00a0a forehoof for a congenial shake when the megastar strolled over to say hello. \\\"He goes, 'You know, the make-up on this is beautiful. I've got no goddamn idea what you look like underneath.'\\\"\\u00a0 Hudson was at home with his wife when the phone rang some days later. \\\"I put the phone to my chest and I said to\\u00a0Cindy, I think this is Marlon Brando.\\u00a0And she said, 'Well \\u2026 talk'.\\\" Before he knew it, Brando had accepted an invitation to bring his wife and daughter to visit Hudson's family in Kuranda, about an hour's drive from Cairns. \\\"I told my mum, you know this bloke's lived in Tahiti so he eats the same tucker that we eat \\u2014\\u00a0like rice, curried chicken and fish and taro and sweet potato,\\\" Hudson says. \\\"So she cooked this huge meal.\\\" Hudson, Brando and their families spent the day sitting on the grass and spinning yarns like old mates. Brando took home a piece of Far North Queensland from the encounter \\u2014\\u00a0a didgeridoo that Hudson had fashioned himself for the actor from a hollow log. It has\\u00a0been decades since the erstwhile Bison Man\\u00a0watched The Island of Doctor Moreau, but he is preparing to dust it off at a special screening in Cairns later this month. \\\"I haven't seen the film in 20 years, so it'll be a blast from the past,\\\" he says. His pre-screening talk will no doubt delve into the sensation of being slathered in grease, fitted with latex moulds and having\\u00a0\\\"bison teeth\\\" wedged into his mouth. \\\"It was stinking hot.\\u00a0It's like wearing a wetsuit.\\u00a0At the end of the day, you're like ... just get this stuff off me,\\\" Hudson says. \\\"It took a while to actually get rid of the latex smell on your body, because you're sweating with it. \\\"It was fun, who am I to complain?\\\" The Island of Doctor Moreau movie has achieved notoriety as one of film's biggest flops after\\u00a0tanking at the box office and being roundly denounced\\u00a0by critics. Regardless, Hudson counts it as one of his greatest experiences\\u00a0\\u2013 and there are plenty to choose from. He has performed didgeridoo for three generations of the British royal family, and\\u00a0spent 12 years touring with Greek composer Yanni to 20,000-seat arenas, the Pyramids\\u00a0and even China's Forbidden City. So how has he been able to attract these opportunities? \\\"That's easy, that's because I come from an old ancient culture ... \\\" he says. \\\"Mine's a living culture and people overseas are very fascinated by my culture. \\\"I want all Australians to understand that we live in this country of ours \\u2026 be proud of it and who we are.\\\" We acknowledge Aboriginal and Torres Strait Islander peoples as the First Australians and Traditional Custodians of the lands where we live, learn, and work. This service may include material from Agence France-Presse (AFP), APTN, Reuters, AAP, CNN and the BBC World Service which is copyright and cannot be reproduced. AEST = Australian Eastern Standard Time which is 10 hours ahead of GMT (Greenwich Mean Time)\"\n",
      "}\n"
     ]
    }
   ],
   "source": [
    "from markdownify import MarkdownConverter\n",
    "\n",
    "for article in articles:\n",
    "    article['title'] = MarkdownConverter(heading_style=\"atx\").convert(article['title'])\n",
    "    article['description'] = MarkdownConverter(heading_style=\"atx\").convert(article['description'])\n",
    "    article['content'] = MarkdownConverter(heading_style=\"atx\").convert(article['content'])\n",
    "\n",
    "print(json.dumps(articles[0], indent=4))"
   ]
  },
  {
   "cell_type": "code",
   "execution_count": 48,
   "metadata": {},
   "outputs": [
    {
     "name": "stdout",
     "output_type": "stream",
     "text": [
      "total_token: 21355\n",
      "total estimated cost: 0.21355000000000002\n"
     ]
    }
   ],
   "source": [
    "import tiktoken\n",
    "encoding = tiktoken.encoding_for_model(\"gpt-4-turbo\")\n",
    "\n",
    "total_token = len(encoding.encode(str(articles)))\n",
    "\n",
    "print(f\"total_token: {total_token}\") \n",
    "print(f\"total estimated cost: {total_token/1000*0.01}\")"
   ]
  },
  {
   "cell_type": "code",
   "execution_count": 50,
   "metadata": {},
   "outputs": [
    {
     "name": "stdout",
     "output_type": "stream",
     "text": [
      "```markdown\n",
      "Host: Welcome to another episode of Podgen, where we distill the news into digestible stories. I'm your host, Alan, and today we're joined by Taylor, a commentator and journalist known for discussing the nuances within the news. Taylor, it's great to have you on the show.\n",
      "\n",
      "Guest: Thanks for having me, Alan. It's always a pleasure to dive into the stories that are shaping our world.\n",
      "\n",
      "Host: Let's start with a rather unique story from the world of cinema. David Hudson, a Cairns artist, had an extraordinary experience working on the set of \"The Island of Dr. Moreau\" alongside Marlon Brando and Val Kilmer. Taylor, can you share more about this?\n",
      "\n",
      "Guest: Absolutely, Alan. David Hudson's life is filled with remarkable experiences, but his role as a half-human, half-bison hybrid in the mid-1990s film stands out as his strangest claim to fame. The film, based on H.G. Wells' novel, featured Hudson in elaborate prosthetics, working closely with the legendary Marlon Brando. Despite the movie's flop at the box office, Hudson cherishes the memories, including a surreal encounter with Brando and a special visit from the actor to his family home in Kuranda. You can read more about Hudson's fascinating tale on ABC News ([source](http://www.abc.net.au/news/2023-04-03/david-hudson-bison-man-brando-island-doctor-moreau-cairns/102171602)).\n",
      "\n",
      "Host: That's quite the story. Now, shifting gears to the stage, Paul Mescal and Jodie Comer recently scored big at London's Olivier Awards for their West End stage roles. Taylor, what's the significance of these wins?\n",
      "\n",
      "Guest: Well, Alan, both Mescal and Comer are screen stars who've made a successful transition to the stage, which is no small feat. Mescal's portrayal of Stanley Kowalski in \"A Streetcar Named Desire\" and Comer's performance in \"Prima Facie\" earned them best actor and actress awards, respectively. Their wins highlight the dynamic range of these actors and the vitality of live theater. The Olivier Awards are a testament to the UK's rich theatrical tradition, and you can find more details on ABC News ([source](http://www.abc.net.au/news/2023-04-03/oliver-awards-paul-scal-jodie-comer-winners-list/102178812)).\n",
      "\n",
      "Host: It's always inspiring to see actors excel across different mediums. Now, let's talk about a lifestyle choice that's gaining popularity. Kobie Notting and her partner Vaughn Turner ditched their 9-5 jobs to embrace van life, funding their travels with farm work. Taylor, what does this say about modern work and lifestyle choices?\n",
      "\n",
      "Guest: Alan, Kobie and Vaughn's story is a reflection of a growing desire for freedom and adventure, balanced with the practicality of sustaining oneself. By choosing van life and farm work, they've managed to escape the daily grind and explore Australia on their own terms. It's a narrative that challenges conventional career paths and speaks to a broader yearning for a simpler, more connected way of living. Their journey, covered by ABC News ([source](http://www.abc.net.au/news/2023-04-03/van-life-gives-couple-freedom-to-travel-funded-by-farm-work/102171920)), may inspire others to consider alternative lifestyles that prioritize experiences over material possessions.\n",
      "\n",
      "Host: That's a compelling shift in how we view work and life. Finally, let's touch on a historical perspective. Western Australia's gold-stealing history is as rich as the metal itself. Can you give us a glimpse into some of the most notorious gold plots?\n",
      "\n",
      "Guest: Certainly, Alan. WA's gold-stealing history is riddled with tales that could rival any Hollywood script. From the establishment of the WA Police Gold Stealing Detection Unit in 1907 to the infamous Perth Mint swindle in 1982, the pursuit of gold has led to some audacious and often ill-fated thefts. These stories, detailed on ABC News ([source](http://www.abc.net.au/news/2023-04-03/gold-stealing-history-western-australia-perth-mint/102170820)), are a fascinating look at the lengths people will go for wealth and the enduring allure of gold.\n",
      "\n",
      "Host: The pursuit of gold certainly brings out the most daring in people. Taylor, thank you for sharing these stories with us and providing your insightful commentary.\n",
      "\n",
      "Guest: My pleasure, Alan. It's always interesting to delve into the stories behind the headlines.\n",
      "\n",
      "Host: And thank you, listeners, for tuning in to Podgen. We'll be back with more stories next time. Until then, keep seeking the truth behind the news.\n",
      "```\n",
      "\n"
     ]
    }
   ],
   "source": [
    "from llama_index.llms import OpenAI\n",
    "\n",
    "response = OpenAI(model=\"gpt-4-1106-preview\").complete(\n",
    "    f\"\"\"You help write podcast scripts for a podcast show called \"Podgen\". Your objective is to handpick a few selected stories within the given list and distil them into easy to understand stories. You  will write a script that is a conversation between an interviewer and a guest.\n",
    "    The output format should be in markdown:\n",
    "    Host: <Message>\n",
    "    Guest: <Message>\n",
    "    Host: <Message>\n",
    "    ----\n",
    "    Characters:\n",
    "    Host: The host name is Alan, he displays insight, understanding, and tries to relate the concepts to other ideas. \n",
    "    Guest: The guest name is Taylor. He is a a commentoator and jouranlist specalised in discussing nuance within the news.\n",
    "    ----\n",
    "    Remember to always site your sources (i.e. url) in the markdown.\n",
    "    The top news articles today are:\n",
    "    {str(articles)}                    \n",
    "\"\"\"\n",
    ")\n",
    "\n",
    "print(response)"
   ]
  },
  {
   "cell_type": "code",
   "execution_count": 53,
   "metadata": {},
   "outputs": [],
   "source": [
    "def split_text_by_speaker(text):\n",
    "    speaker_text = {}\n",
    "\n",
    "    lines = [line for line in text.strip().split(\"\\n\") if line != '']\n",
    "    for i, line in enumerate(lines):\n",
    "        if \": \" in line:\n",
    "            speaker, speech = line.split(\": \", 1)\n",
    "            if \"Host\" in speaker:\n",
    "                speaker_text[str(i) + '_host'] = speech\n",
    "            else:\n",
    "                speaker_text[str(i) + '_guest'] = speech\n",
    "\n",
    "    return speaker_text\n",
    "\n",
    "speaker_map = split_text_by_speaker(str(response))"
   ]
  },
  {
   "cell_type": "code",
   "execution_count": 54,
   "metadata": {},
   "outputs": [
    {
     "data": {
      "text/plain": [
       "{'1_host': \"Welcome to another episode of Podgen, where we distill the news into digestible stories. I'm your host, Alan, and today we're joined by Taylor, a commentator and journalist known for discussing the nuances within the news. Taylor, it's great to have you on the show.\",\n",
       " '2_guest': \"Thanks for having me, Alan. It's always a pleasure to dive into the stories that are shaping our world.\",\n",
       " '3_host': 'Let\\'s start with a rather unique story from the world of cinema. David Hudson, a Cairns artist, had an extraordinary experience working on the set of \"The Island of Dr. Moreau\" alongside Marlon Brando and Val Kilmer. Taylor, can you share more about this?',\n",
       " '4_guest': \"Absolutely, Alan. David Hudson's life is filled with remarkable experiences, but his role as a half-human, half-bison hybrid in the mid-1990s film stands out as his strangest claim to fame. The film, based on H.G. Wells' novel, featured Hudson in elaborate prosthetics, working closely with the legendary Marlon Brando. Despite the movie's flop at the box office, Hudson cherishes the memories, including a surreal encounter with Brando and a special visit from the actor to his family home in Kuranda. You can read more about Hudson's fascinating tale on ABC News ([source](http://www.abc.net.au/news/2023-04-03/david-hudson-bison-man-brando-island-doctor-moreau-cairns/102171602)).\",\n",
       " '5_host': \"That's quite the story. Now, shifting gears to the stage, Paul Mescal and Jodie Comer recently scored big at London's Olivier Awards for their West End stage roles. Taylor, what's the significance of these wins?\",\n",
       " '6_guest': 'Well, Alan, both Mescal and Comer are screen stars who\\'ve made a successful transition to the stage, which is no small feat. Mescal\\'s portrayal of Stanley Kowalski in \"A Streetcar Named Desire\" and Comer\\'s performance in \"Prima Facie\" earned them best actor and actress awards, respectively. Their wins highlight the dynamic range of these actors and the vitality of live theater. The Olivier Awards are a testament to the UK\\'s rich theatrical tradition, and you can find more details on ABC News ([source](http://www.abc.net.au/news/2023-04-03/oliver-awards-paul-scal-jodie-comer-winners-list/102178812)).',\n",
       " '7_host': \"It's always inspiring to see actors excel across different mediums. Now, let's talk about a lifestyle choice that's gaining popularity. Kobie Notting and her partner Vaughn Turner ditched their 9-5 jobs to embrace van life, funding their travels with farm work. Taylor, what does this say about modern work and lifestyle choices?\",\n",
       " '8_guest': \"Alan, Kobie and Vaughn's story is a reflection of a growing desire for freedom and adventure, balanced with the practicality of sustaining oneself. By choosing van life and farm work, they've managed to escape the daily grind and explore Australia on their own terms. It's a narrative that challenges conventional career paths and speaks to a broader yearning for a simpler, more connected way of living. Their journey, covered by ABC News ([source](http://www.abc.net.au/news/2023-04-03/van-life-gives-couple-freedom-to-travel-funded-by-farm-work/102171920)), may inspire others to consider alternative lifestyles that prioritize experiences over material possessions.\",\n",
       " '9_host': \"That's a compelling shift in how we view work and life. Finally, let's touch on a historical perspective. Western Australia's gold-stealing history is as rich as the metal itself. Can you give us a glimpse into some of the most notorious gold plots?\",\n",
       " '10_guest': \"Certainly, Alan. WA's gold-stealing history is riddled with tales that could rival any Hollywood script. From the establishment of the WA Police Gold Stealing Detection Unit in 1907 to the infamous Perth Mint swindle in 1982, the pursuit of gold has led to some audacious and often ill-fated thefts. These stories, detailed on ABC News ([source](http://www.abc.net.au/news/2023-04-03/gold-stealing-history-western-australia-perth-mint/102170820)), are a fascinating look at the lengths people will go for wealth and the enduring allure of gold.\",\n",
       " '11_host': 'The pursuit of gold certainly brings out the most daring in people. Taylor, thank you for sharing these stories with us and providing your insightful commentary.',\n",
       " '12_guest': \"My pleasure, Alan. It's always interesting to delve into the stories behind the headlines.\",\n",
       " '13_host': \"And thank you, listeners, for tuning in to Podgen. We'll be back with more stories next time. Until then, keep seeking the truth behind the news.\"}"
      ]
     },
     "execution_count": 54,
     "metadata": {},
     "output_type": "execute_result"
    }
   ],
   "source": [
    "speaker_map"
   ]
  },
  {
   "cell_type": "code",
   "execution_count": 55,
   "metadata": {},
   "outputs": [
    {
     "data": {
      "text/plain": [
       "{'1_host': \"Welcome to another episode of Podgen, where we distill the news into digestible stories. I'm your host, Alan, and today we're joined by Taylor, a commentator and journalist known for discussing the nuances within the news. Taylor, it's great to have you on the show.\",\n",
       " '2_guest': \"Thanks for having me, Alan. It's always a pleasure to dive into the stories that are shaping our world.\",\n",
       " '3_host': 'Let\\'s start with a rather unique story from the world of cinema. David Hudson, a Cairns artist, had an extraordinary experience working on the set of \"The Island of Dr. Moreau\" alongside Marlon Brando and Val Kilmer. Taylor, can you share more about this?',\n",
       " '4_guest': \"Absolutely, Alan. David Hudson's life is filled with remarkable experiences, but his role as a half-human, half-bison hybrid in the mid-1990s film stands out as his strangest claim to fame. The film, based on H.G. Wells' novel, featured Hudson in elaborate prosthetics, working closely with the legendary Marlon Brando. Despite the movie's flop at the box office, Hudson cherishes the memories, including a surreal encounter with Brando and a special visit from the actor to his family home in Kuranda. You can read more about Hudson's fascinating tale on ABC News (.\",\n",
       " '5_host': \"That's quite the story. Now, shifting gears to the stage, Paul Mescal and Jodie Comer recently scored big at London's Olivier Awards for their West End stage roles. Taylor, what's the significance of these wins?\",\n",
       " '6_guest': 'Well, Alan, both Mescal and Comer are screen stars who\\'ve made a successful transition to the stage, which is no small feat. Mescal\\'s portrayal of Stanley Kowalski in \"A Streetcar Named Desire\" and Comer\\'s performance in \"Prima Facie\" earned them best actor and actress awards, respectively. Their wins highlight the dynamic range of these actors and the vitality of live theater. The Olivier Awards are a testament to the UK\\'s rich theatrical tradition, and you can find more details on ABC News (.',\n",
       " '7_host': \"It's always inspiring to see actors excel across different mediums. Now, let's talk about a lifestyle choice that's gaining popularity. Kobie Notting and her partner Vaughn Turner ditched their 9-5 jobs to embrace van life, funding their travels with farm work. Taylor, what does this say about modern work and lifestyle choices?\",\n",
       " '8_guest': \"Alan, Kobie and Vaughn's story is a reflection of a growing desire for freedom and adventure, balanced with the practicality of sustaining oneself. By choosing van life and farm work, they've managed to escape the daily grind and explore Australia on their own terms. It's a narrative that challenges conventional career paths and speaks to a broader yearning for a simpler, more connected way of living. Their journey, covered by ABC News (, may inspire others to consider alternative lifestyles that prioritize experiences over material possessions.\",\n",
       " '9_host': \"That's a compelling shift in how we view work and life. Finally, let's touch on a historical perspective. Western Australia's gold-stealing history is as rich as the metal itself. Can you give us a glimpse into some of the most notorious gold plots?\",\n",
       " '10_guest': \"Certainly, Alan. WA's gold-stealing history is riddled with tales that could rival any Hollywood script. From the establishment of the WA Police Gold Stealing Detection Unit in 1907 to the infamous Perth Mint swindle in 1982, the pursuit of gold has led to some audacious and often ill-fated thefts. These stories, detailed on ABC News (, are a fascinating look at the lengths people will go for wealth and the enduring allure of gold.\",\n",
       " '11_host': 'The pursuit of gold certainly brings out the most daring in people. Taylor, thank you for sharing these stories with us and providing your insightful commentary.',\n",
       " '12_guest': \"My pleasure, Alan. It's always interesting to delve into the stories behind the headlines.\",\n",
       " '13_host': \"And thank you, listeners, for tuning in to Podgen. We'll be back with more stories next time. Until then, keep seeking the truth behind the news.\"}"
      ]
     },
     "execution_count": 55,
     "metadata": {},
     "output_type": "execute_result"
    }
   ],
   "source": [
    "def strip_source_and_url_from_string(speaker_map):\n",
    "    import re\n",
    "    for key, value in speaker_map.items():\n",
    "        speaker_map[key] = re.sub(r'\\[source\\]\\(.*\\)', '', value).strip()\n",
    "    return speaker_map\n",
    "\n",
    "speaker_map = strip_source_and_url_from_string(speaker_map)\n",
    "speaker_map\n"
   ]
  },
  {
   "cell_type": "code",
   "execution_count": 56,
   "metadata": {},
   "outputs": [],
   "source": [
    "import openai\n",
    "import os\n",
    "import requests\n",
    "import io\n",
    "import tempfile\n",
    "\n",
    "def text_to_audio(file_name, text, voice):\n",
    "    response = requests.post(\n",
    "        \"https://api.openai.com/v1/audio/speech\",\n",
    "        headers={\n",
    "            \"Authorization\": f\"Bearer {os.getenv('OPENAI_API_KEY')}\",\n",
    "        },\n",
    "        json={\n",
    "            \"model\": \"tts-1\",\n",
    "            \"input\": text,\n",
    "            \"voice\": f'{voice if voice else \"onyx\"}',\n",
    "        },\n",
    "    )\n",
    "\n",
    "    # audio_file_path = f\"{file_name}.wav\"\n",
    "    # with open(audio_file_path, \"wb\") as audio_file:\n",
    "    #     for chunk in response.iter_content(chunk_size=1024 * 1024):\n",
    "    #         audio_file.write(chunk)\n",
    "\n",
    "    # # To play the audio in Jupyter after saving\n",
    "    # Audio(audio_file_path)\n",
    "    # Check if the request was successful\n",
    "    if response.status_code != 200:\n",
    "        raise Exception(\"Request failed with status code\")\n",
    "    # ...\n",
    "    # Create an in-memory bytes buffer\n",
    "    audio_bytes_io = io.BytesIO()\n",
    "\n",
    "    # Write audio data to the in-memory bytes buffer\n",
    "    for chunk in response.iter_content(chunk_size=1024 * 1024):\n",
    "        audio_bytes_io.write(chunk)\n",
    "\n",
    "    # Important: Seek to the start of the BytesIO buffer before returning\n",
    "    audio_bytes_io.seek(0)\n",
    "\n",
    "    # Save audio to a temporary file\n",
    "    with tempfile.NamedTemporaryFile(delete=False, prefix=file_name, suffix=\".wav\") as tmpfile:\n",
    "        for chunk in response.iter_content(chunk_size=1024 * 1024):\n",
    "            tmpfile.write(chunk)\n",
    "        audio_filename = tmpfile.name\n",
    "\n",
    "    return audio_filename, audio_bytes_io"
   ]
  },
  {
   "cell_type": "code",
   "execution_count": 57,
   "metadata": {},
   "outputs": [],
   "source": [
    "audio_bytes_combined = io.BytesIO()\n",
    "temp_files = []\n",
    "for item in speaker_map.items():\n",
    "    if 'host' in item[0]:\n",
    "        audio_filename, audio_bytes_io = text_to_audio(item[0], item[1], \"alloy\")\n",
    "    elif 'guest' in item[0]:\n",
    "        audio_filename, audio_bytes_io = text_to_audio(item[0], item[1], \"nova\")\n",
    "    audio_bytes_combined.write(audio_bytes_io.read())\n",
    "    temp_files.append(audio_filename)\n",
    "audio_bytes_combined.seek(0)\n",
    "\n",
    "# Delete all the temporary files after audio combined\n",
    "for temp_file in temp_files:\n",
    "    os.remove(temp_file)"
   ]
  },
  {
   "cell_type": "code",
   "execution_count": 58,
   "metadata": {},
   "outputs": [
    {
     "name": "stdout",
     "output_type": "stream",
     "text": [
      "/Users/Chris_Pang/Developer/Code_Repository/llm_podgen/src\n",
      "/Users/Chris_Pang/Developer/Code_Repository/llm_podgen\n"
     ]
    }
   ],
   "source": [
    "print(os.getcwd())\n",
    "os.chdir(\"../\")\n",
    "print(os.getcwd())"
   ]
  },
  {
   "cell_type": "code",
   "execution_count": 59,
   "metadata": {},
   "outputs": [
    {
     "data": {
      "text/plain": [
       "0"
      ]
     },
     "execution_count": 59,
     "metadata": {},
     "output_type": "execute_result"
    }
   ],
   "source": [
    "# Save the combined audio to a file in the output folder\n",
    "# Check if the output directory exists, if not, create it\n",
    "from datetime import date\n",
    "\n",
    "output_dir = f'output/daily_news_{date.today()}'\n",
    "if not os.path.exists(output_dir):\n",
    "    os.makedirs(output_dir)\n",
    "\n",
    "with open(os.path.join(output_dir, 'openai_tts_combined_audio.wav'), 'wb') as f:\n",
    "    f.write(audio_bytes_combined.read())\n",
    "audio_bytes_combined.seek(0)"
   ]
  }
 ],
 "metadata": {
  "kernelspec": {
   "display_name": ".venv",
   "language": "python",
   "name": "python3"
  },
  "language_info": {
   "codemirror_mode": {
    "name": "ipython",
    "version": 3
   },
   "file_extension": ".py",
   "mimetype": "text/x-python",
   "name": "python",
   "nbconvert_exporter": "python",
   "pygments_lexer": "ipython3",
   "version": "3.10.12"
  }
 },
 "nbformat": 4,
 "nbformat_minor": 2
}
