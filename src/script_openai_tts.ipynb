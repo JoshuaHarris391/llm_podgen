{
 "cells": [
  {
   "cell_type": "markdown",
   "metadata": {},
   "source": [
    "# OpenAI TTS Demo\n",
    "Use OpenAI Assistant to generate a script then convert it into audio scripts\n"
   ]
  },
  {
   "cell_type": "code",
   "execution_count": 19,
   "metadata": {},
   "outputs": [
    {
     "data": {
      "text/plain": [
       "True"
      ]
     },
     "execution_count": 19,
     "metadata": {},
     "output_type": "execute_result"
    }
   ],
   "source": [
    "import os\n",
    "from dotenv import load_dotenv\n",
    "load_dotenv()"
   ]
  },
  {
   "cell_type": "code",
   "execution_count": 53,
   "metadata": {},
   "outputs": [],
   "source": [
    "script = \"\"\"\n",
    "Host: Welcome back to 'Health Innovations', the podcast where we dive into the latest research transforming medicine. I'm your host, Alex, and today we're joined by Dr. Adam Ware, lead author of a cutting-edge study that's uncovering new insights in the battle against breast cancer. Dr. Ware, thank you for being here with us.\n",
    "Dr. Ware: Thank you for having me, Alex. It's a pleasure to share our findings with your audience.\n",
    "Host: Breast cancer affects millions of women worldwide, yet there are still so many mysteries about its progression. Dr. Ware, your study focuses on a rather unexpected player – the epithelial sodium channel, or ENaC. Can you explain what this channel is and why it's significant?\n",
    "Dr. Ware: Certainly, Alex. The epithelial sodium channel is traditionally known for its role in regulating sodium absorption in our cells. However, it has been suggested that this channel might also have a role in cancer development and metastasis. In our latest research, we've explored how ENaC expression impacts cell proliferation in breast cancer.\n",
    "Host: That is fascinating! Normally, when we think about breast cancer, ion channels aren't the first thing that comes to mind. So, what did your study find about ENaC's role?\n",
    "Dr. Ware: Our study took a deep dive into publicly available data and in vitro experiments with breast cancer cell lines. We discovered that high ENaC expression is associated with less aggressive breast cancer subtypes. More so, it seems that increasing the levels of ENaC decreases cell proliferation, whereas decreasing its activity or expression does the opposite.\n",
    "Host: It almost sounds like ENaC acts as a kind of cellular brake in these cancer cells. If these findings hold up, could ENaC become a target for future therapies?\n",
    "Dr. Ware: Precisely. We are cautiously optimistic. Targeting ion channels is not new in pharmacology, but directing this strategy towards cancer treatment, specifically breast cancer, could open a whole new avenue of therapeutic possibilities.\n",
    "Host: With such potential, what's the next step? What does this mean for breast cancer patients?\n",
    "Dr. Ware: We're now looking into how ENaC modulates these effects at the molecular level. Understanding its mechanism can lead to the development of drugs that might modulate its activity. And while we're still in the early stages, there's hope that this could translate into more effective treatments for patients down the line.\n",
    "Host: Incredible work, Dr. Ware. It's clear that unlocking the secrets of cancer will come from exploring every angle, even the ones we never expected. We'll be following your research with great interest. Thanks for sharing your insights with us today.\n",
    "Dr. Ware: Thank you, Alex. It's through conversations like this that we can spread awareness and hope.\n",
    "\n",
    "\"\"\""
   ]
  },
  {
   "cell_type": "code",
   "execution_count": 59,
   "metadata": {},
   "outputs": [],
   "source": [
    "def split_text_by_speaker(text):\n",
    "    speaker_text = {}\n",
    "\n",
    "    lines = [line for line in text.strip().split(\"\\n\") if line != '']\n",
    "    for i, line in enumerate(lines):\n",
    "        if \": \" in line:\n",
    "            speaker, speech = line.split(\": \", 1)\n",
    "            if \"Host\" in speaker:\n",
    "                speaker_text[str(i) + '_host'] = speech\n",
    "            else:\n",
    "                speaker_text[str(i) + '_guest'] = speech\n",
    "\n",
    "    return speaker_text\n",
    "\n",
    "speaker_map = split_text_by_speaker(script)"
   ]
  },
  {
   "cell_type": "code",
   "execution_count": 60,
   "metadata": {},
   "outputs": [
    {
     "data": {
      "text/plain": [
       "{'0_host': \"Welcome back to 'Health Innovations', the podcast where we dive into the latest research transforming medicine. I'm your host, Alex, and today we're joined by Dr. Adam Ware, lead author of a cutting-edge study that's uncovering new insights in the battle against breast cancer. Dr. Ware, thank you for being here with us.\",\n",
       " '1_guest': \"Thank you for having me, Alex. It's a pleasure to share our findings with your audience.\",\n",
       " '2_host': \"Breast cancer affects millions of women worldwide, yet there are still so many mysteries about its progression. Dr. Ware, your study focuses on a rather unexpected player – the epithelial sodium channel, or ENaC. Can you explain what this channel is and why it's significant?\",\n",
       " '3_guest': \"Certainly, Alex. The epithelial sodium channel is traditionally known for its role in regulating sodium absorption in our cells. However, it has been suggested that this channel might also have a role in cancer development and metastasis. In our latest research, we've explored how ENaC expression impacts cell proliferation in breast cancer.\",\n",
       " '4_host': \"That is fascinating! Normally, when we think about breast cancer, ion channels aren't the first thing that comes to mind. So, what did your study find about ENaC's role?\",\n",
       " '5_guest': 'Our study took a deep dive into publicly available data and in vitro experiments with breast cancer cell lines. We discovered that high ENaC expression is associated with less aggressive breast cancer subtypes. More so, it seems that increasing the levels of ENaC decreases cell proliferation, whereas decreasing its activity or expression does the opposite.',\n",
       " '6_host': 'It almost sounds like ENaC acts as a kind of cellular brake in these cancer cells. If these findings hold up, could ENaC become a target for future therapies?',\n",
       " '7_guest': 'Precisely. We are cautiously optimistic. Targeting ion channels is not new in pharmacology, but directing this strategy towards cancer treatment, specifically breast cancer, could open a whole new avenue of therapeutic possibilities.',\n",
       " '8_host': \"With such potential, what's the next step? What does this mean for breast cancer patients?\",\n",
       " '9_guest': \"We're now looking into how ENaC modulates these effects at the molecular level. Understanding its mechanism can lead to the development of drugs that might modulate its activity. And while we're still in the early stages, there's hope that this could translate into more effective treatments for patients down the line.\",\n",
       " '10_host': \"Incredible work, Dr. Ware. It's clear that unlocking the secrets of cancer will come from exploring every angle, even the ones we never expected. We'll be following your research with great interest. Thanks for sharing your insights with us today.\",\n",
       " '11_guest': \"Thank you, Alex. It's through conversations like this that we can spread awareness and hope.\"}"
      ]
     },
     "execution_count": 60,
     "metadata": {},
     "output_type": "execute_result"
    }
   ],
   "source": [
    "speaker_map"
   ]
  },
  {
   "cell_type": "code",
   "execution_count": 68,
   "metadata": {},
   "outputs": [],
   "source": [
    "import openai\n",
    "import os\n",
    "import requests\n",
    "import io\n",
    "import tempfile\n",
    "\n",
    "def text_to_audio(file_name, text, voice):\n",
    "    response = requests.post(\n",
    "        \"https://api.openai.com/v1/audio/speech\",\n",
    "        headers={\n",
    "            \"Authorization\": f\"Bearer {os.getenv('OPENAI_API_KEY')}\",\n",
    "        },\n",
    "        json={\n",
    "            \"model\": \"tts-1\",\n",
    "            \"input\": text,\n",
    "            \"voice\": f'{voice if voice else \"onyx\"}',\n",
    "        },\n",
    "    )\n",
    "\n",
    "    # audio_file_path = f\"{file_name}.wav\"\n",
    "    # with open(audio_file_path, \"wb\") as audio_file:\n",
    "    #     for chunk in response.iter_content(chunk_size=1024 * 1024):\n",
    "    #         audio_file.write(chunk)\n",
    "\n",
    "    # # To play the audio in Jupyter after saving\n",
    "    # Audio(audio_file_path)\n",
    "    # Check if the request was successful\n",
    "    if response.status_code != 200:\n",
    "        raise Exception(\"Request failed with status code\")\n",
    "    # ...\n",
    "    # Create an in-memory bytes buffer\n",
    "    audio_bytes_io = io.BytesIO()\n",
    "\n",
    "    # Write audio data to the in-memory bytes buffer\n",
    "    for chunk in response.iter_content(chunk_size=1024 * 1024):\n",
    "        audio_bytes_io.write(chunk)\n",
    "\n",
    "    # Important: Seek to the start of the BytesIO buffer before returning\n",
    "    audio_bytes_io.seek(0)\n",
    "\n",
    "    # Save audio to a temporary file\n",
    "    with tempfile.NamedTemporaryFile(delete=False, prefix=file_name, suffix=\".wav\") as tmpfile:\n",
    "        for chunk in response.iter_content(chunk_size=1024 * 1024):\n",
    "            tmpfile.write(chunk)\n",
    "        audio_filename = tmpfile.name\n",
    "\n",
    "    return audio_filename, audio_bytes_io"
   ]
  },
  {
   "cell_type": "code",
   "execution_count": 69,
   "metadata": {},
   "outputs": [
    {
     "ename": "AttributeError",
     "evalue": "'str' object has no attribute 'close'",
     "output_type": "error",
     "traceback": [
      "\u001b[0;31m---------------------------------------------------------------------------\u001b[0m",
      "\u001b[0;31mAttributeError\u001b[0m                            Traceback (most recent call last)",
      "\u001b[1;32m/Users/Chris_Pang/Developer/Code_Repository/llm_podgen/src/script_openai_tts.ipynb Cell 7\u001b[0m line \u001b[0;36m1\n\u001b[1;32m     <a href='vscode-notebook-cell:/Users/Chris_Pang/Developer/Code_Repository/llm_podgen/src/script_openai_tts.ipynb#W4sZmlsZQ%3D%3D?line=11'>12</a>\u001b[0m \u001b[39m# Delete all the temporary files after audio combined\u001b[39;00m\n\u001b[1;32m     <a href='vscode-notebook-cell:/Users/Chris_Pang/Developer/Code_Repository/llm_podgen/src/script_openai_tts.ipynb#W4sZmlsZQ%3D%3D?line=12'>13</a>\u001b[0m \u001b[39mfor\u001b[39;00m temp_file \u001b[39min\u001b[39;00m temp_files:\n\u001b[0;32m---> <a href='vscode-notebook-cell:/Users/Chris_Pang/Developer/Code_Repository/llm_podgen/src/script_openai_tts.ipynb#W4sZmlsZQ%3D%3D?line=13'>14</a>\u001b[0m     temp_file\u001b[39m.\u001b[39;49mclose()\n\u001b[1;32m     <a href='vscode-notebook-cell:/Users/Chris_Pang/Developer/Code_Repository/llm_podgen/src/script_openai_tts.ipynb#W4sZmlsZQ%3D%3D?line=14'>15</a>\u001b[0m     os\u001b[39m.\u001b[39munlink(temp_file\u001b[39m.\u001b[39mname)\n",
      "\u001b[0;31mAttributeError\u001b[0m: 'str' object has no attribute 'close'"
     ]
    }
   ],
   "source": [
    "audio_bytes_combined = io.BytesIO()\n",
    "temp_files = []\n",
    "for item in speaker_map.items():\n",
    "    if 'host' in item[0]:\n",
    "        audio_filename, audio_bytes_io = text_to_audio(item[0], item[1], \"alloy\")\n",
    "    elif 'guest' in item[0]:\n",
    "        audio_filename, audio_bytes_io = text_to_audio(item[0], item[1], \"nova\")\n",
    "    audio_bytes_combined.write(audio_bytes_io.read())\n",
    "    temp_files.append(audio_filename)\n",
    "audio_bytes_combined.seek(0)\n",
    "\n",
    "# Delete all the temporary files after audio combined\n",
    "for temp_file in temp_files:\n",
    "    os.remove(temp_file)"
   ]
  },
  {
   "cell_type": "code",
   "execution_count": 70,
   "metadata": {},
   "outputs": [],
   "source": [
    "# Delete all the temporary files after audio combined\n",
    "for temp_file in temp_files:\n",
    "    os.remove(temp_file)"
   ]
  },
  {
   "cell_type": "code",
   "execution_count": 73,
   "metadata": {},
   "outputs": [
    {
     "name": "stdout",
     "output_type": "stream",
     "text": [
      "/Users/Chris_Pang/Developer/Code_Repository\n",
      "/Users/Chris_Pang/Developer/Code_Repository/llm_podgen/output\n"
     ]
    }
   ],
   "source": [
    "print(os.getcwd())\n",
    "os.chdir(\"../\")\n",
    "print(os.getcwd())"
   ]
  },
  {
   "cell_type": "code",
   "execution_count": 76,
   "metadata": {},
   "outputs": [
    {
     "data": {
      "text/plain": [
       "0"
      ]
     },
     "execution_count": 76,
     "metadata": {},
     "output_type": "execute_result"
    }
   ],
   "source": [
    "    # Save the combined audio to a file in the output folder\n",
    "    # Check if the output directory exists, if not, create it\n",
    "    output_dir = 'dr_ware_interview'\n",
    "    if not os.path.exists(output_dir):\n",
    "        os.makedirs(output_dir)\n",
    "\n",
    "    with open(os.path.join(output_dir, 'openai_tts_combined_audio.wav'), 'wb') as f:\n",
    "        f.write(audio_bytes_combined.read())\n",
    "    audio_bytes_combined.seek(0)"
   ]
  }
 ],
 "metadata": {
  "kernelspec": {
   "display_name": ".venv",
   "language": "python",
   "name": "python3"
  },
  "language_info": {
   "codemirror_mode": {
    "name": "ipython",
    "version": 3
   },
   "file_extension": ".py",
   "mimetype": "text/x-python",
   "name": "python",
   "nbconvert_exporter": "python",
   "pygments_lexer": "ipython3",
   "version": "3.10.12"
  }
 },
 "nbformat": 4,
 "nbformat_minor": 2
}
